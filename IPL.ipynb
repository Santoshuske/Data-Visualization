{
  "nbformat": 4,
  "nbformat_minor": 0,
  "metadata": {
    "colab": {
      "name": "IPL.ipynb",
      "provenance": [],
      "authorship_tag": "ABX9TyO12F1JF9opfimLs7OdX4/S",
      "include_colab_link": true
    },
    "kernelspec": {
      "name": "python3",
      "display_name": "Python 3"
    },
    "language_info": {
      "name": "python"
    }
  },
  "cells": [
    {
      "cell_type": "markdown",
      "metadata": {
        "id": "view-in-github",
        "colab_type": "text"
      },
      "source": [
        "<a href=\"https://colab.research.google.com/github/Santoshuske/Data-Visualization/blob/main/IPL.ipynb\" target=\"_parent\"><img src=\"https://colab.research.google.com/assets/colab-badge.svg\" alt=\"Open In Colab\"/></a>"
      ]
    },
    {
      "cell_type": "code",
      "execution_count": 1,
      "metadata": {
        "id": "d7hQ1rHQZh5n"
      },
      "outputs": [],
      "source": [
        "import pandas as pd"
      ]
    },
    {
      "cell_type": "code",
      "source": [
        "df=pd.read_csv('/content/IPL Dataset.csv')"
      ],
      "metadata": {
        "id": "icnJkBBucdL-"
      },
      "execution_count": 11,
      "outputs": []
    },
    {
      "cell_type": "code",
      "source": [
        "df.head()"
      ],
      "metadata": {
        "colab": {
          "base_uri": "https://localhost:8080/",
          "height": 473
        },
        "id": "pK5Ul_niej49",
        "outputId": "9795d0ab-14c7-4ec4-e88f-5f900bc6fe4a"
      },
      "execution_count": 12,
      "outputs": [
        {
          "output_type": "execute_result",
          "data": {
            "text/plain": [
              "   match_id  season  start_date                  venue  innings  ball  \\\n",
              "0    335982    2008  2008-04-18  M.Chinnaswamy Stadium        1   0.1   \n",
              "1    335982    2008  2008-04-18  M.Chinnaswamy Stadium        1   0.2   \n",
              "2    335982    2008  2008-04-18  M.Chinnaswamy Stadium        1   0.3   \n",
              "3    335982    2008  2008-04-18  M.Chinnaswamy Stadium        1   0.4   \n",
              "4    335982    2008  2008-04-18  M.Chinnaswamy Stadium        1   0.5   \n",
              "\n",
              "            batting_team                 bowling_team      striker  \\\n",
              "0  Kolkata Knight Riders  Royal Challengers Bangalore   SC Ganguly   \n",
              "1  Kolkata Knight Riders  Royal Challengers Bangalore  BB McCullum   \n",
              "2  Kolkata Knight Riders  Royal Challengers Bangalore  BB McCullum   \n",
              "3  Kolkata Knight Riders  Royal Challengers Bangalore  BB McCullum   \n",
              "4  Kolkata Knight Riders  Royal Challengers Bangalore  BB McCullum   \n",
              "\n",
              "   non_striker  ... runs_off_bat  extras  wides  noballs  byes  legbyes  \\\n",
              "0  BB McCullum  ...            0       1    0.0      0.0   0.0      1.0   \n",
              "1   SC Ganguly  ...            0       0    0.0      0.0   0.0      0.0   \n",
              "2   SC Ganguly  ...            0       1    1.0      0.0   0.0      0.0   \n",
              "3   SC Ganguly  ...            0       0    0.0      0.0   0.0      0.0   \n",
              "4   SC Ganguly  ...            0       0    0.0      0.0   0.0      0.0   \n",
              "\n",
              "   wicket_type player_dismissed run  over  \n",
              "0                                 1     0  \n",
              "1                                 0     0  \n",
              "2                                 1     0  \n",
              "3                                 0     0  \n",
              "4                                 0     0  \n",
              "\n",
              "[5 rows x 21 columns]"
            ],
            "text/html": [
              "\n",
              "  <div id=\"df-47f756ff-ca0e-4587-9a50-b4f9cf7f81a1\">\n",
              "    <div class=\"colab-df-container\">\n",
              "      <div>\n",
              "<style scoped>\n",
              "    .dataframe tbody tr th:only-of-type {\n",
              "        vertical-align: middle;\n",
              "    }\n",
              "\n",
              "    .dataframe tbody tr th {\n",
              "        vertical-align: top;\n",
              "    }\n",
              "\n",
              "    .dataframe thead th {\n",
              "        text-align: right;\n",
              "    }\n",
              "</style>\n",
              "<table border=\"1\" class=\"dataframe\">\n",
              "  <thead>\n",
              "    <tr style=\"text-align: right;\">\n",
              "      <th></th>\n",
              "      <th>match_id</th>\n",
              "      <th>season</th>\n",
              "      <th>start_date</th>\n",
              "      <th>venue</th>\n",
              "      <th>innings</th>\n",
              "      <th>ball</th>\n",
              "      <th>batting_team</th>\n",
              "      <th>bowling_team</th>\n",
              "      <th>striker</th>\n",
              "      <th>non_striker</th>\n",
              "      <th>...</th>\n",
              "      <th>runs_off_bat</th>\n",
              "      <th>extras</th>\n",
              "      <th>wides</th>\n",
              "      <th>noballs</th>\n",
              "      <th>byes</th>\n",
              "      <th>legbyes</th>\n",
              "      <th>wicket_type</th>\n",
              "      <th>player_dismissed</th>\n",
              "      <th>run</th>\n",
              "      <th>over</th>\n",
              "    </tr>\n",
              "  </thead>\n",
              "  <tbody>\n",
              "    <tr>\n",
              "      <th>0</th>\n",
              "      <td>335982</td>\n",
              "      <td>2008</td>\n",
              "      <td>2008-04-18</td>\n",
              "      <td>M.Chinnaswamy Stadium</td>\n",
              "      <td>1</td>\n",
              "      <td>0.1</td>\n",
              "      <td>Kolkata Knight Riders</td>\n",
              "      <td>Royal Challengers Bangalore</td>\n",
              "      <td>SC Ganguly</td>\n",
              "      <td>BB McCullum</td>\n",
              "      <td>...</td>\n",
              "      <td>0</td>\n",
              "      <td>1</td>\n",
              "      <td>0.0</td>\n",
              "      <td>0.0</td>\n",
              "      <td>0.0</td>\n",
              "      <td>1.0</td>\n",
              "      <td></td>\n",
              "      <td></td>\n",
              "      <td>1</td>\n",
              "      <td>0</td>\n",
              "    </tr>\n",
              "    <tr>\n",
              "      <th>1</th>\n",
              "      <td>335982</td>\n",
              "      <td>2008</td>\n",
              "      <td>2008-04-18</td>\n",
              "      <td>M.Chinnaswamy Stadium</td>\n",
              "      <td>1</td>\n",
              "      <td>0.2</td>\n",
              "      <td>Kolkata Knight Riders</td>\n",
              "      <td>Royal Challengers Bangalore</td>\n",
              "      <td>BB McCullum</td>\n",
              "      <td>SC Ganguly</td>\n",
              "      <td>...</td>\n",
              "      <td>0</td>\n",
              "      <td>0</td>\n",
              "      <td>0.0</td>\n",
              "      <td>0.0</td>\n",
              "      <td>0.0</td>\n",
              "      <td>0.0</td>\n",
              "      <td></td>\n",
              "      <td></td>\n",
              "      <td>0</td>\n",
              "      <td>0</td>\n",
              "    </tr>\n",
              "    <tr>\n",
              "      <th>2</th>\n",
              "      <td>335982</td>\n",
              "      <td>2008</td>\n",
              "      <td>2008-04-18</td>\n",
              "      <td>M.Chinnaswamy Stadium</td>\n",
              "      <td>1</td>\n",
              "      <td>0.3</td>\n",
              "      <td>Kolkata Knight Riders</td>\n",
              "      <td>Royal Challengers Bangalore</td>\n",
              "      <td>BB McCullum</td>\n",
              "      <td>SC Ganguly</td>\n",
              "      <td>...</td>\n",
              "      <td>0</td>\n",
              "      <td>1</td>\n",
              "      <td>1.0</td>\n",
              "      <td>0.0</td>\n",
              "      <td>0.0</td>\n",
              "      <td>0.0</td>\n",
              "      <td></td>\n",
              "      <td></td>\n",
              "      <td>1</td>\n",
              "      <td>0</td>\n",
              "    </tr>\n",
              "    <tr>\n",
              "      <th>3</th>\n",
              "      <td>335982</td>\n",
              "      <td>2008</td>\n",
              "      <td>2008-04-18</td>\n",
              "      <td>M.Chinnaswamy Stadium</td>\n",
              "      <td>1</td>\n",
              "      <td>0.4</td>\n",
              "      <td>Kolkata Knight Riders</td>\n",
              "      <td>Royal Challengers Bangalore</td>\n",
              "      <td>BB McCullum</td>\n",
              "      <td>SC Ganguly</td>\n",
              "      <td>...</td>\n",
              "      <td>0</td>\n",
              "      <td>0</td>\n",
              "      <td>0.0</td>\n",
              "      <td>0.0</td>\n",
              "      <td>0.0</td>\n",
              "      <td>0.0</td>\n",
              "      <td></td>\n",
              "      <td></td>\n",
              "      <td>0</td>\n",
              "      <td>0</td>\n",
              "    </tr>\n",
              "    <tr>\n",
              "      <th>4</th>\n",
              "      <td>335982</td>\n",
              "      <td>2008</td>\n",
              "      <td>2008-04-18</td>\n",
              "      <td>M.Chinnaswamy Stadium</td>\n",
              "      <td>1</td>\n",
              "      <td>0.5</td>\n",
              "      <td>Kolkata Knight Riders</td>\n",
              "      <td>Royal Challengers Bangalore</td>\n",
              "      <td>BB McCullum</td>\n",
              "      <td>SC Ganguly</td>\n",
              "      <td>...</td>\n",
              "      <td>0</td>\n",
              "      <td>0</td>\n",
              "      <td>0.0</td>\n",
              "      <td>0.0</td>\n",
              "      <td>0.0</td>\n",
              "      <td>0.0</td>\n",
              "      <td></td>\n",
              "      <td></td>\n",
              "      <td>0</td>\n",
              "      <td>0</td>\n",
              "    </tr>\n",
              "  </tbody>\n",
              "</table>\n",
              "<p>5 rows × 21 columns</p>\n",
              "</div>\n",
              "      <button class=\"colab-df-convert\" onclick=\"convertToInteractive('df-47f756ff-ca0e-4587-9a50-b4f9cf7f81a1')\"\n",
              "              title=\"Convert this dataframe to an interactive table.\"\n",
              "              style=\"display:none;\">\n",
              "        \n",
              "  <svg xmlns=\"http://www.w3.org/2000/svg\" height=\"24px\"viewBox=\"0 0 24 24\"\n",
              "       width=\"24px\">\n",
              "    <path d=\"M0 0h24v24H0V0z\" fill=\"none\"/>\n",
              "    <path d=\"M18.56 5.44l.94 2.06.94-2.06 2.06-.94-2.06-.94-.94-2.06-.94 2.06-2.06.94zm-11 1L8.5 8.5l.94-2.06 2.06-.94-2.06-.94L8.5 2.5l-.94 2.06-2.06.94zm10 10l.94 2.06.94-2.06 2.06-.94-2.06-.94-.94-2.06-.94 2.06-2.06.94z\"/><path d=\"M17.41 7.96l-1.37-1.37c-.4-.4-.92-.59-1.43-.59-.52 0-1.04.2-1.43.59L10.3 9.45l-7.72 7.72c-.78.78-.78 2.05 0 2.83L4 21.41c.39.39.9.59 1.41.59.51 0 1.02-.2 1.41-.59l7.78-7.78 2.81-2.81c.8-.78.8-2.07 0-2.86zM5.41 20L4 18.59l7.72-7.72 1.47 1.35L5.41 20z\"/>\n",
              "  </svg>\n",
              "      </button>\n",
              "      \n",
              "  <style>\n",
              "    .colab-df-container {\n",
              "      display:flex;\n",
              "      flex-wrap:wrap;\n",
              "      gap: 12px;\n",
              "    }\n",
              "\n",
              "    .colab-df-convert {\n",
              "      background-color: #E8F0FE;\n",
              "      border: none;\n",
              "      border-radius: 50%;\n",
              "      cursor: pointer;\n",
              "      display: none;\n",
              "      fill: #1967D2;\n",
              "      height: 32px;\n",
              "      padding: 0 0 0 0;\n",
              "      width: 32px;\n",
              "    }\n",
              "\n",
              "    .colab-df-convert:hover {\n",
              "      background-color: #E2EBFA;\n",
              "      box-shadow: 0px 1px 2px rgba(60, 64, 67, 0.3), 0px 1px 3px 1px rgba(60, 64, 67, 0.15);\n",
              "      fill: #174EA6;\n",
              "    }\n",
              "\n",
              "    [theme=dark] .colab-df-convert {\n",
              "      background-color: #3B4455;\n",
              "      fill: #D2E3FC;\n",
              "    }\n",
              "\n",
              "    [theme=dark] .colab-df-convert:hover {\n",
              "      background-color: #434B5C;\n",
              "      box-shadow: 0px 1px 3px 1px rgba(0, 0, 0, 0.15);\n",
              "      filter: drop-shadow(0px 1px 2px rgba(0, 0, 0, 0.3));\n",
              "      fill: #FFFFFF;\n",
              "    }\n",
              "  </style>\n",
              "\n",
              "      <script>\n",
              "        const buttonEl =\n",
              "          document.querySelector('#df-47f756ff-ca0e-4587-9a50-b4f9cf7f81a1 button.colab-df-convert');\n",
              "        buttonEl.style.display =\n",
              "          google.colab.kernel.accessAllowed ? 'block' : 'none';\n",
              "\n",
              "        async function convertToInteractive(key) {\n",
              "          const element = document.querySelector('#df-47f756ff-ca0e-4587-9a50-b4f9cf7f81a1');\n",
              "          const dataTable =\n",
              "            await google.colab.kernel.invokeFunction('convertToInteractive',\n",
              "                                                     [key], {});\n",
              "          if (!dataTable) return;\n",
              "\n",
              "          const docLinkHtml = 'Like what you see? Visit the ' +\n",
              "            '<a target=\"_blank\" href=https://colab.research.google.com/notebooks/data_table.ipynb>data table notebook</a>'\n",
              "            + ' to learn more about interactive tables.';\n",
              "          element.innerHTML = '';\n",
              "          dataTable['output_type'] = 'display_data';\n",
              "          await google.colab.output.renderOutput(dataTable, element);\n",
              "          const docLink = document.createElement('div');\n",
              "          docLink.innerHTML = docLinkHtml;\n",
              "          element.appendChild(docLink);\n",
              "        }\n",
              "      </script>\n",
              "    </div>\n",
              "  </div>\n",
              "  "
            ]
          },
          "metadata": {},
          "execution_count": 12
        }
      ]
    },
    {
      "cell_type": "code",
      "source": [
        "df.columns"
      ],
      "metadata": {
        "colab": {
          "base_uri": "https://localhost:8080/"
        },
        "id": "LzveHD7L1M_P",
        "outputId": "c5364e9f-0fd1-46f2-dbc2-b4797a388359"
      },
      "execution_count": 47,
      "outputs": [
        {
          "output_type": "execute_result",
          "data": {
            "text/plain": [
              "Index(['match_id', 'season', 'start_date', 'venue', 'innings', 'ball',\n",
              "       'batting_team', 'bowling_team', 'striker', 'non_striker', 'bowler',\n",
              "       'runs_off_bat', 'extras', 'wides', 'noballs', 'byes', 'legbyes',\n",
              "       'wicket_type', 'player_dismissed', 'run', 'over'],\n",
              "      dtype='object')"
            ]
          },
          "metadata": {},
          "execution_count": 47
        }
      ]
    },
    {
      "cell_type": "code",
      "source": [
        "df.info()"
      ],
      "metadata": {
        "colab": {
          "base_uri": "https://localhost:8080/"
        },
        "id": "WzC76R06esNb",
        "outputId": "6bd636b9-6ed1-4b19-97e5-c8b5d900138d"
      },
      "execution_count": 13,
      "outputs": [
        {
          "output_type": "stream",
          "name": "stdout",
          "text": [
            "<class 'pandas.core.frame.DataFrame'>\n",
            "RangeIndex: 194354 entries, 0 to 194353\n",
            "Data columns (total 21 columns):\n",
            " #   Column            Non-Null Count   Dtype  \n",
            "---  ------            --------------   -----  \n",
            " 0   match_id          194354 non-null  int64  \n",
            " 1   season            194354 non-null  int64  \n",
            " 2   start_date        194354 non-null  object \n",
            " 3   venue             194354 non-null  object \n",
            " 4   innings           194354 non-null  int64  \n",
            " 5   ball              194354 non-null  float64\n",
            " 6   batting_team      194354 non-null  object \n",
            " 7   bowling_team      194354 non-null  object \n",
            " 8   striker           194354 non-null  object \n",
            " 9   non_striker       194354 non-null  object \n",
            " 10  bowler            194354 non-null  object \n",
            " 11  runs_off_bat      194354 non-null  int64  \n",
            " 12  extras            194354 non-null  int64  \n",
            " 13  wides             194354 non-null  float64\n",
            " 14  noballs           194354 non-null  float64\n",
            " 15  byes              194354 non-null  float64\n",
            " 16  legbyes           194354 non-null  float64\n",
            " 17  wicket_type       194354 non-null  object \n",
            " 18  player_dismissed  194354 non-null  object \n",
            " 19  run               194354 non-null  int64  \n",
            " 20  over              194354 non-null  int64  \n",
            "dtypes: float64(5), int64(7), object(9)\n",
            "memory usage: 31.1+ MB\n"
          ]
        }
      ]
    },
    {
      "cell_type": "code",
      "source": [
        "df.isnull().sum()"
      ],
      "metadata": {
        "colab": {
          "base_uri": "https://localhost:8080/"
        },
        "id": "GMRXmWlleybI",
        "outputId": "f917640f-9d2e-4a1d-b71e-d13f159b7384"
      },
      "execution_count": 14,
      "outputs": [
        {
          "output_type": "execute_result",
          "data": {
            "text/plain": [
              "match_id            0\n",
              "season              0\n",
              "start_date          0\n",
              "venue               0\n",
              "innings             0\n",
              "ball                0\n",
              "batting_team        0\n",
              "bowling_team        0\n",
              "striker             0\n",
              "non_striker         0\n",
              "bowler              0\n",
              "runs_off_bat        0\n",
              "extras              0\n",
              "wides               0\n",
              "noballs             0\n",
              "byes                0\n",
              "legbyes             0\n",
              "wicket_type         0\n",
              "player_dismissed    0\n",
              "run                 0\n",
              "over                0\n",
              "dtype: int64"
            ]
          },
          "metadata": {},
          "execution_count": 14
        }
      ]
    },
    {
      "cell_type": "code",
      "source": [
        "df['season'].unique()"
      ],
      "metadata": {
        "colab": {
          "base_uri": "https://localhost:8080/"
        },
        "id": "UjeL5xj-fHRs",
        "outputId": "ff2bd8c9-7628-43c5-ee52-374b17010dc2"
      },
      "execution_count": 15,
      "outputs": [
        {
          "output_type": "execute_result",
          "data": {
            "text/plain": [
              "array([2008, 2009, 2010, 2011, 2012, 2013, 2014, 2015, 2016, 2017, 2019,\n",
              "       2018, 2020, 2021])"
            ]
          },
          "metadata": {},
          "execution_count": 15
        }
      ]
    },
    {
      "cell_type": "code",
      "source": [
        "df.shape"
      ],
      "metadata": {
        "colab": {
          "base_uri": "https://localhost:8080/"
        },
        "id": "8xWaygHMfaDG",
        "outputId": "a001330a-134b-4a49-cd53-f0479947c275"
      },
      "execution_count": 16,
      "outputs": [
        {
          "output_type": "execute_result",
          "data": {
            "text/plain": [
              "(194354, 21)"
            ]
          },
          "metadata": {},
          "execution_count": 16
        }
      ]
    },
    {
      "cell_type": "code",
      "source": [
        "df.iloc[0]"
      ],
      "metadata": {
        "colab": {
          "base_uri": "https://localhost:8080/"
        },
        "id": "CM0k7qQ-lQT7",
        "outputId": "fc83feed-88aa-4c74-d7be-908e299b947a"
      },
      "execution_count": 17,
      "outputs": [
        {
          "output_type": "execute_result",
          "data": {
            "text/plain": [
              "match_id                                 335982\n",
              "season                                     2008\n",
              "start_date                           2008-04-18\n",
              "venue                     M.Chinnaswamy Stadium\n",
              "innings                                       1\n",
              "ball                                        0.1\n",
              "batting_team              Kolkata Knight Riders\n",
              "bowling_team        Royal Challengers Bangalore\n",
              "striker                              SC Ganguly\n",
              "non_striker                         BB McCullum\n",
              "bowler                                  P Kumar\n",
              "runs_off_bat                                  0\n",
              "extras                                        1\n",
              "wides                                       0.0\n",
              "noballs                                     0.0\n",
              "byes                                        0.0\n",
              "legbyes                                     1.0\n",
              "wicket_type                                    \n",
              "player_dismissed                               \n",
              "run                                           1\n",
              "over                                          0\n",
              "Name: 0, dtype: object"
            ]
          },
          "metadata": {},
          "execution_count": 17
        }
      ]
    },
    {
      "cell_type": "markdown",
      "source": [
        "# Season Wise IPL Matches"
      ],
      "metadata": {
        "id": "84FuAorql8j0"
      }
    },
    {
      "cell_type": "code",
      "source": [
        "import matplotlib.pyplot as plt\n",
        "import seaborn as sns\n",
        "\n",
        "plt.figure(figsize=(10,8))\n",
        "data = df.groupby(['match_id','season']).count().index.droplevel(level=0).value_counts().sort_index()\n",
        "sns.barplot(y=data.index,x=data,orient='h')\n",
        "plt.xlabel('Matches Played')\n",
        "plt.ylabel('Season')\n",
        "plt.show()"
      ],
      "metadata": {
        "colab": {
          "base_uri": "https://localhost:8080/",
          "height": 497
        },
        "id": "LINxDJkFlhXf",
        "outputId": "748bc685-13a7-4fd4-d738-f01f3ac8c597"
      },
      "execution_count": 20,
      "outputs": [
        {
          "output_type": "display_data",
          "data": {
            "text/plain": [
              "<Figure size 720x576 with 1 Axes>"
            ],
            "image/png": "[encoded data removed]"
          },
          "metadata": {
            "needs_background": "light"
          }
        }
      ]
    },
    {
      "cell_type": "markdown",
      "source": [
        "Most matches played in season 2013"
      ],
      "metadata": {
        "id": "4QAJnNj-16Ca"
      }
    },
    {
      "cell_type": "markdown",
      "source": [
        "# Most IPL Matches played in a Venue"
      ],
      "metadata": {
        "id": "rKwqJzwcnm_E"
      }
    },
    {
      "cell_type": "code",
      "source": [
        "df.groupby(['venue','match_id']).count().droplevel(level=1).index.value_counts()"
      ],
      "metadata": {
        "colab": {
          "base_uri": "https://localhost:8080/"
        },
        "id": "ukUMuP0Ymg8u",
        "outputId": "c244d4be-6e2a-45ea-9e9e-b3e4ff098c84"
      },
      "execution_count": 21,
      "outputs": [
        {
          "output_type": "execute_result",
          "data": {
            "text/plain": [
              "M.Chinnaswamy Stadium                                   80\n",
              "Eden Gardens                                            77\n",
              "Arun Jaitley Stadium                                    74\n",
              "Wankhede Stadium, Mumbai                                74\n",
              "Rajiv Gandhi International Stadium, Uppal               64\n",
              "MA Chidambaram Stadium, Chepauk, Chennai                59\n",
              "Punjab Cricket Association IS Bindra Stadium, Mohali    56\n",
              "Sawai Mansingh Stadium                                  47\n",
              "Dubai International Cricket Stadium                     33\n",
              "Sheikh Zayed Stadium                                    29\n",
              "Maharashtra Cricket Association Stadium                 21\n",
              "Sharjah Cricket Stadium                                 18\n",
              "Dr DY Patil Sports Academy                              17\n",
              "Subrata Roy Sahara Stadium                              17\n",
              "Kingsmead                                               15\n",
              "Dr. Y.S. Rajasekhara Reddy ACA-VDCA Cricket Stadium     13\n",
              "SuperSport Park                                         12\n",
              "Sardar Patel Stadium, Motera                            12\n",
              "Brabourne Stadium                                       11\n",
              "Saurashtra Cricket Association Stadium                  10\n",
              "Holkar Cricket Stadium                                   9\n",
              "Himachal Pradesh Cricket Association Stadium             9\n",
              "New Wanderers Stadium                                    8\n",
              "JSCA International Stadium Complex                       7\n",
              "Barabati Stadium                                         7\n",
              "St George's Park                                         7\n",
              "Newlands                                                 7\n",
              "Shaheed Veer Narayan Singh International Stadium         6\n",
              "Nehru Stadium                                            5\n",
              "Green Park                                               4\n",
              "Buffalo Park                                             3\n",
              "Vidarbha Cricket Association Stadium, Jamtha             3\n",
              "De Beers Diamond Oval                                    3\n",
              "OUTsurance Oval                                          2\n",
              "Name: venue, dtype: int64"
            ]
          },
          "metadata": {},
          "execution_count": 21
        }
      ]
    },
    {
      "cell_type": "markdown",
      "source": [
        "Most IPL matches played in M.Chinnaswamy Stadium "
      ],
      "metadata": {
        "id": "yP3U8P_s2CD7"
      }
    },
    {
      "cell_type": "markdown",
      "source": [
        "# IPL Matches Played by Each Team"
      ],
      "metadata": {
        "id": "31A5AOsApr38"
      }
    },
    {
      "cell_type": "code",
      "source": [
        "plt.figure(figsize=(10,8))\n",
        "data = df['bowling_team'].value_counts().sort_values(ascending=False)\n",
        "sns.barplot(y=data.index,x=data,orient='h')\n",
        "plt.xlabel('Matches Played')\n",
        "plt.ylabel('Team')\n",
        "plt.show()"
      ],
      "metadata": {
        "colab": {
          "base_uri": "https://localhost:8080/",
          "height": 497
        },
        "id": "MFx4S6ZTplOx",
        "outputId": "54d9c6ca-cfe3-47bb-d654-d5a5b4dedf48"
      },
      "execution_count": 23,
      "outputs": [
        {
          "output_type": "display_data",
          "data": {
            "text/plain": [
              "<Figure size 720x576 with 1 Axes>"
            ],
            "image/png": "[encoded data removed]"
          },
          "metadata": {
            "needs_background": "light"
          }
        }
      ]
    },
    {
      "cell_type": "markdown",
      "source": [
        "Most matches played by Mumbai Indians"
      ],
      "metadata": {
        "id": "E_xJ7HBh2YQE"
      }
    },
    {
      "cell_type": "markdown",
      "source": [
        "# Most Run Scored by IPL Teams"
      ],
      "metadata": {
        "id": "VT1a4_0SqXVk"
      }
    },
    {
      "cell_type": "code",
      "source": [
        "df.groupby(['batting_team'])['run'].sum().sort_values(ascending=False)"
      ],
      "metadata": {
        "colab": {
          "base_uri": "https://localhost:8080/"
        },
        "id": "8-jiD0IjqaR4",
        "outputId": "389b0c20-ca6a-4b3c-e0c0-1a146ccbc66a"
      },
      "execution_count": 24,
      "outputs": [
        {
          "output_type": "execute_result",
          "data": {
            "text/plain": [
              "batting_team\n",
              "Mumbai Indians                 32488\n",
              "Royal Challengers Bangalore    30415\n",
              "Kings XI Punjab                30064\n",
              "Kolkata Knight Riders          29606\n",
              "Chennai Super Kings            28560\n",
              "Rajasthan Royals               24542\n",
              "Delhi Daredevils               24296\n",
              "Sunrisers Hyderabad            19539\n",
              "Deccan Chargers                11463\n",
              "Pune Warriors                   6358\n",
              "Delhi Capitals                  5499\n",
              "Gujarat Lions                   4862\n",
              "Rising Pune Supergiant          4533\n",
              "Kochi Tuskers Kerala            1901\n",
              "Name: run, dtype: int64"
            ]
          },
          "metadata": {},
          "execution_count": 24
        }
      ]
    },
    {
      "cell_type": "markdown",
      "source": [
        "Most runs scored by mumbai indians"
      ],
      "metadata": {
        "id": "d6fPT8y02kb6"
      }
    },
    {
      "cell_type": "markdown",
      "source": [
        "# Most IPL Runs by a Batsman"
      ],
      "metadata": {
        "id": "qd7GenLSq1G3"
      }
    },
    {
      "cell_type": "code",
      "source": [
        "plt.figure(figsize=(10,8))\n",
        "data = df.groupby(['striker'])['runs_off_bat'].sum().sort_values(ascending=False)[:10]\n",
        "sns.barplot(y=data.index,x=data,orient='h')\n",
        "plt.xlabel('Batsman')\n",
        "plt.ylabel('Runs')\n",
        "plt.show()"
      ],
      "metadata": {
        "colab": {
          "base_uri": "https://localhost:8080/",
          "height": 497
        },
        "id": "6o2djjGKq3Yj",
        "outputId": "67f40238-0e39-4912-91bd-1a0c991b4192"
      },
      "execution_count": 25,
      "outputs": [
        {
          "output_type": "display_data",
          "data": {
            "text/plain": [
              "<Figure size 720x576 with 1 Axes>"
            ],
            "image/png": "[encoded data removed]"
          },
          "metadata": {
            "needs_background": "light"
          }
        }
      ]
    },
    {
      "cell_type": "markdown",
      "source": [
        "most ipl runs by batsman Virat kohli"
      ],
      "metadata": {
        "id": "Q88qc-dn3IOA"
      }
    },
    {
      "cell_type": "markdown",
      "source": [
        "# Avg Run by Teams in Powerplay"
      ],
      "metadata": {
        "id": "JP0MvdMOs205"
      }
    },
    {
      "cell_type": "code",
      "source": [
        "df[df['over']<6].groupby(['match_id','batting_team']).sum()['run'].groupby('batting_team').mean().sort_values(ascending=False)[2:]"
      ],
      "metadata": {
        "colab": {
          "base_uri": "https://localhost:8080/"
        },
        "id": "OLKGxTGcsvDo",
        "outputId": "b72fd032-df18-4377-eb31-625af5ec8f62"
      },
      "execution_count": 26,
      "outputs": [
        {
          "output_type": "execute_result",
          "data": {
            "text/plain": [
              "batting_team\n",
              "Delhi Capitals                 48.176471\n",
              "Sunrisers Hyderabad            47.856000\n",
              "Rising Pune Supergiant         47.433333\n",
              "Kings XI Punjab                47.126316\n",
              "Kolkata Knight Riders          46.409326\n",
              "Delhi Daredevils               45.714286\n",
              "Deccan Chargers                45.560000\n",
              "Mumbai Indians                 45.529412\n",
              "Chennai Super Kings            45.195531\n",
              "Rajasthan Royals               44.912500\n",
              "Royal Challengers Bangalore    44.826531\n",
              "Pune Warriors                  42.111111\n",
              "Name: run, dtype: float64"
            ]
          },
          "metadata": {},
          "execution_count": 26
        }
      ]
    },
    {
      "cell_type": "markdown",
      "source": [
        "# Most IPL Century by a Player"
      ],
      "metadata": {
        "id": "WLeM0ubctGTK"
      }
    },
    {
      "cell_type": "code",
      "source": [
        "runs = df.groupby(['striker','match_id'])['runs_off_bat'].sum()\n",
        "runs[runs >= 100].droplevel(level=1).groupby('striker').count().sort_values(ascending=False)[:10]"
      ],
      "metadata": {
        "colab": {
          "base_uri": "https://localhost:8080/"
        },
        "id": "KeVgAf80tA8g",
        "outputId": "323b7986-8aa9-4b5a-ff4d-efb6a65dd6b6"
      },
      "execution_count": 27,
      "outputs": [
        {
          "output_type": "execute_result",
          "data": {
            "text/plain": [
              "striker\n",
              "CH Gayle          6\n",
              "V Kohli           5\n",
              "DA Warner         4\n",
              "SR Watson         4\n",
              "AB de Villiers    3\n",
              "HM Amla           2\n",
              "M Vijay           2\n",
              "KL Rahul          2\n",
              "SV Samson         2\n",
              "S Dhawan          2\n",
              "Name: runs_off_bat, dtype: int64"
            ]
          },
          "metadata": {},
          "execution_count": 27
        }
      ]
    },
    {
      "cell_type": "markdown",
      "source": [
        "# Most IPL Fifty by Player"
      ],
      "metadata": {
        "id": "d1Dcz5i3tZki"
      }
    },
    {
      "cell_type": "code",
      "source": [
        "plt.figure(figsize=(10,8))\n",
        "runs = df.groupby(['striker','start_date'])['runs_off_bat'].sum()\n",
        "data = runs[runs >= 50].droplevel(level=1).groupby('striker').count().sort_values(ascending=False)[:10]\n",
        "sns.barplot(y=data.index,x=data,orient='h')\n",
        "plt.xlabel('Half-Centuries')\n",
        "plt.ylabel('Batsman')\n",
        "plt.show()"
      ],
      "metadata": {
        "colab": {
          "base_uri": "https://localhost:8080/",
          "height": 497
        },
        "id": "sk00-adltbKf",
        "outputId": "8d257ab5-0987-4732-f505-25fb20b5bc0c"
      },
      "execution_count": 28,
      "outputs": [
        {
          "output_type": "display_data",
          "data": {
            "text/plain": [
              "<Figure size 720x576 with 1 Axes>"
            ],
            "image/png": "[encoded data removed]"
          },
          "metadata": {
            "needs_background": "light"
          }
        }
      ]
    },
    {
      "cell_type": "markdown",
      "source": [
        "# Orange Cap Holder Each Season"
      ],
      "metadata": {
        "id": "47zJBnzeuJ4l"
      }
    },
    {
      "cell_type": "code",
      "source": [
        "data = df.groupby(['season','striker'])['runs_off_bat'].sum().groupby('season').max()\n",
        "temp_df=pd.DataFrame(df.groupby(['season','striker'])['runs_off_bat'].sum())\n",
        "print(\"{0:10}{1:20}{2:30}\".format(\"Season\",\"Player\",\"Runs\"))\n",
        "for season,run in data.items():\n",
        "    player = temp_df.loc[season][temp_df.loc[season]['runs_off_bat'] == run].index[0]\n",
        "    print(season,'\\t ',player,'\\t\\t',run)"
      ],
      "metadata": {
        "colab": {
          "base_uri": "https://localhost:8080/"
        },
        "id": "8j5aMCa5tlzs",
        "outputId": "a1425fd8-d3d6-4371-cefe-298ffe707cdc"
      },
      "execution_count": 29,
      "outputs": [
        {
          "output_type": "stream",
          "name": "stdout",
          "text": [
            "Season    Player              Runs                          \n",
            "2008 \t  SE Marsh \t\t 616\n",
            "2009 \t  ML Hayden \t\t 572\n",
            "2010 \t  SR Tendulkar \t\t 618\n",
            "2011 \t  CH Gayle \t\t 608\n",
            "2012 \t  CH Gayle \t\t 733\n",
            "2013 \t  MEK Hussey \t\t 733\n",
            "2014 \t  RV Uthappa \t\t 660\n",
            "2015 \t  DA Warner \t\t 562\n",
            "2016 \t  V Kohli \t\t 973\n",
            "2017 \t  DA Warner \t\t 641\n",
            "2018 \t  KS Williamson \t\t 735\n",
            "2019 \t  DA Warner \t\t 692\n",
            "2020 \t  KL Rahul \t\t 676\n",
            "2021 \t  S Dhawan \t\t 85\n"
          ]
        }
      ]
    },
    {
      "cell_type": "markdown",
      "source": [
        "# Most Sixes in an IPL Inning"
      ],
      "metadata": {
        "id": "6tAb21N-umT6"
      }
    },
    {
      "cell_type": "code",
      "source": [
        "df[df['runs_off_bat'] == 6].groupby(['start_date','striker']).count()['season'].sort_values(ascending=False).droplevel(level=0)[:10]"
      ],
      "metadata": {
        "colab": {
          "base_uri": "https://localhost:8080/"
        },
        "id": "m-bDPujtuoNR",
        "outputId": "ecc4d209-1911-42b3-9f7f-598714f359a2"
      },
      "execution_count": 30,
      "outputs": [
        {
          "output_type": "execute_result",
          "data": {
            "text/plain": [
              "striker\n",
              "CH Gayle          17\n",
              "BB McCullum       13\n",
              "CH Gayle          13\n",
              "CH Gayle          12\n",
              "AB de Villiers    12\n",
              "M Vijay           11\n",
              "CH Gayle          11\n",
              "AD Russell        11\n",
              "ST Jayasuriya     11\n",
              "SS Iyer           10\n",
              "Name: season, dtype: int64"
            ]
          },
          "metadata": {},
          "execution_count": 30
        }
      ]
    },
    {
      "cell_type": "markdown",
      "source": [
        "# Most Boundary (4s) hit by a Batsman"
      ],
      "metadata": {
        "id": "Ufv0yrgzvA7-"
      }
    },
    {
      "cell_type": "code",
      "source": [
        "plt.figure(figsize=(10,8))\n",
        "data = df[df['runs_off_bat'] == 4]['striker'].value_counts()[:10]\n",
        "sns.barplot(y=data.index,x=data,orient='h')\n",
        "plt.xlabel('Fours')\n",
        "plt.ylabel('Batsman')\n",
        "plt.show()"
      ],
      "metadata": {
        "colab": {
          "base_uri": "https://localhost:8080/",
          "height": 497
        },
        "id": "xBgu6spGu3pA",
        "outputId": "b077c91c-fd55-467e-e347-f0aeeb3a353b"
      },
      "execution_count": 31,
      "outputs": [
        {
          "output_type": "display_data",
          "data": {
            "text/plain": [
              "<Figure size 720x576 with 1 Axes>"
            ],
            "image/png": "[encoded data removed]"
          },
          "metadata": {
            "needs_background": "light"
          }
        }
      ]
    },
    {
      "cell_type": "markdown",
      "source": [
        "# Most runs in an IPL season by Player"
      ],
      "metadata": {
        "id": "A87pu1KSvQhq"
      }
    },
    {
      "cell_type": "code",
      "source": [
        "df.groupby(['striker','season'])['runs_off_bat'].sum().sort_values(ascending=False)[:10]"
      ],
      "metadata": {
        "colab": {
          "base_uri": "https://localhost:8080/"
        },
        "id": "IKaMsMt0vSiJ",
        "outputId": "39610f43-3a45-4636-af93-d22173dfaef7"
      },
      "execution_count": 32,
      "outputs": [
        {
          "output_type": "execute_result",
          "data": {
            "text/plain": [
              "striker         season\n",
              "V Kohli         2016      973\n",
              "DA Warner       2016      848\n",
              "KS Williamson   2018      735\n",
              "MEK Hussey      2013      733\n",
              "CH Gayle        2012      733\n",
              "                2013      720\n",
              "DA Warner       2019      692\n",
              "AB de Villiers  2016      687\n",
              "RR Pant         2018      684\n",
              "KL Rahul        2020      676\n",
              "Name: runs_off_bat, dtype: int64"
            ]
          },
          "metadata": {},
          "execution_count": 32
        }
      ]
    },
    {
      "cell_type": "markdown",
      "source": [
        "# No. of Sixes in IPL Seasons"
      ],
      "metadata": {
        "id": "PSpnN7YGvmPb"
      }
    },
    {
      "cell_type": "code",
      "source": [
        "plt.figure(figsize=(10,8))\n",
        "data = df[df['runs_off_bat'] == 6].groupby('season').count()['match_id'].sort_values(ascending=False)\n",
        "sns.barplot(y=data.index,x=data,orient='h')\n",
        "plt.xlabel('Sixes')\n",
        "plt.ylabel('Season')\n",
        "plt.show()"
      ],
      "metadata": {
        "colab": {
          "base_uri": "https://localhost:8080/",
          "height": 497
        },
        "id": "jBvv8t8HvfYl",
        "outputId": "6f655f8d-f019-48d8-f0b4-80f009df44a6"
      },
      "execution_count": 33,
      "outputs": [
        {
          "output_type": "display_data",
          "data": {
            "text/plain": [
              "<Figure size 720x576 with 1 Axes>"
            ],
            "image/png": "[encoded data removed]"
          },
          "metadata": {
            "needs_background": "light"
          }
        }
      ]
    },
    {
      "cell_type": "markdown",
      "source": [
        "# Highest Total by IPL Teams"
      ],
      "metadata": {
        "id": "c5CH8YAQwE0p"
      }
    },
    {
      "cell_type": "code",
      "source": [
        "df.groupby(['start_date','batting_team']).sum()['run'].droplevel(level=0).sort_values(ascending=False)[:10]"
      ],
      "metadata": {
        "colab": {
          "base_uri": "https://localhost:8080/"
        },
        "id": "jaAyVIQ_wG-E",
        "outputId": "d2a50a19-3946-433a-c83c-720fa9009ed6"
      },
      "execution_count": 34,
      "outputs": [
        {
          "output_type": "execute_result",
          "data": {
            "text/plain": [
              "batting_team\n",
              "Royal Challengers Bangalore    263\n",
              "Royal Challengers Bangalore    248\n",
              "Chennai Super Kings            246\n",
              "Kolkata Knight Riders          245\n",
              "Chennai Super Kings            240\n",
              "Royal Challengers Bangalore    235\n",
              "Kolkata Knight Riders          232\n",
              "Kings XI Punjab                232\n",
              "Delhi Daredevils               231\n",
              "Sunrisers Hyderabad            231\n",
              "Name: run, dtype: int64"
            ]
          },
          "metadata": {},
          "execution_count": 34
        }
      ]
    },
    {
      "cell_type": "markdown",
      "source": [
        "# Most IPL Sixes Hit by a batsman"
      ],
      "metadata": {
        "id": "Zqayw4pQwXqm"
      }
    },
    {
      "cell_type": "code",
      "source": [
        "plt.figure(figsize=(10,8))\n",
        "data = df[df['runs_off_bat'] == 6]['striker'].value_counts()[:10]\n",
        "sns.barplot(y=data.index,x=data,orient='h')\n",
        "plt.xlabel('Sixes')\n",
        "plt.ylabel('Batsman')\n",
        "plt.show()"
      ],
      "metadata": {
        "colab": {
          "base_uri": "https://localhost:8080/",
          "height": 497
        },
        "id": "sUpoDX72wSIk",
        "outputId": "3a857351-8ad4-4682-f460-7876770b0175"
      },
      "execution_count": 35,
      "outputs": [
        {
          "output_type": "display_data",
          "data": {
            "text/plain": [
              "<Figure size 720x576 with 1 Axes>"
            ],
            "image/png": "[encoded data removed]"
          },
          "metadata": {
            "needs_background": "light"
          }
        }
      ]
    },
    {
      "cell_type": "markdown",
      "source": [
        "# Highest Individual IPL Score"
      ],
      "metadata": {
        "id": "6QTrh0tfwqWb"
      }
    },
    {
      "cell_type": "code",
      "source": [
        "df.groupby(['striker','start_date'])['runs_off_bat'].sum().sort_values(ascending=False)[:10]"
      ],
      "metadata": {
        "colab": {
          "base_uri": "https://localhost:8080/"
        },
        "id": "5GvtVt6MwjNf",
        "outputId": "127aad56-eb71-40c5-a1f7-1dd32f5a460b"
      },
      "execution_count": 36,
      "outputs": [
        {
          "output_type": "execute_result",
          "data": {
            "text/plain": [
              "striker         start_date\n",
              "CH Gayle        2013-04-23    175\n",
              "BB McCullum     2008-04-18    158\n",
              "AB de Villiers  2015-05-10    133\n",
              "KL Rahul        2020-09-24    132\n",
              "AB de Villiers  2016-05-14    129\n",
              "CH Gayle        2012-05-17    128\n",
              "RR Pant         2018-05-10    128\n",
              "M Vijay         2010-04-03    127\n",
              "DA Warner       2017-04-30    126\n",
              "V Sehwag        2014-05-30    122\n",
              "Name: runs_off_bat, dtype: int64"
            ]
          },
          "metadata": {},
          "execution_count": 36
        }
      ]
    },
    {
      "cell_type": "markdown",
      "source": [
        "# Most run conceded by a bowler in an inning"
      ],
      "metadata": {
        "id": "O9puqQ3dxByN"
      }
    },
    {
      "cell_type": "code",
      "source": [
        "df.groupby(['bowler','start_date'])['run'].sum().droplevel(level=1).sort_values(ascending=False)[:10]"
      ],
      "metadata": {
        "colab": {
          "base_uri": "https://localhost:8080/"
        },
        "id": "qRZztBJDw4iJ",
        "outputId": "0fa384c1-e9a2-4a5a-a407-b342851ad8d1"
      },
      "execution_count": 37,
      "outputs": [
        {
          "output_type": "execute_result",
          "data": {
            "text/plain": [
              "bowler\n",
              "Basil Thampi        70\n",
              "Sandeep Sharma      66\n",
              "Mujeeb Ur Rahman    66\n",
              "I Sharma            66\n",
              "PJ Cummins          65\n",
              "UT Yadav            65\n",
              "AS Rajpoot          64\n",
              "S Kaul              64\n",
              "AB Dinda            63\n",
              "TA Boult            63\n",
              "Name: run, dtype: int64"
            ]
          },
          "metadata": {},
          "execution_count": 37
        }
      ]
    },
    {
      "cell_type": "markdown",
      "source": [
        "# Purple Cap Holders"
      ],
      "metadata": {
        "id": "xflPAma6xVYD"
      }
    },
    {
      "cell_type": "code",
      "source": [
        "lst = 'caught,bowled,lbw,stumped,caught and bowled,hit wicket'\n",
        "data = df[df['wicket_type'].apply(lambda x: True if x in lst and x != ' ' else False)].groupby(['season','bowler']).count()['ball']\n",
        "data=data.sort_values(ascending=False)[:30].sort_index(level=0)\n",
        "val=0\n",
        "lst=[]\n",
        "print(\"{0:10}{1:20}{2:30}\".format(\"Season\",\"Player\",\"Runs\"))\n",
        "for (season,bowler),wicket in data.items():\n",
        "    if season == val:\n",
        "        lst.append(wicket)        \n",
        "    else:\n",
        "        print(season,'\\t ',bowler,'\\t\\t',wicket)\n",
        "        val = season\n",
        "        lst=[]"
      ],
      "metadata": {
        "colab": {
          "base_uri": "https://localhost:8080/"
        },
        "id": "_c5CtOR-xYDw",
        "outputId": "06404ac4-e664-4e6a-abc8-5b27d6e9389e"
      },
      "execution_count": 38,
      "outputs": [
        {
          "output_type": "stream",
          "name": "stdout",
          "text": [
            "Season    Player              Runs                          \n",
            "2008 \t  Sohail Tanvir \t\t 22\n",
            "2009 \t  A Kumble \t\t 21\n",
            "2011 \t  MM Patel \t\t 22\n",
            "2012 \t  M Morkel \t\t 25\n",
            "2013 \t  DJ Bravo \t\t 32\n",
            "2014 \t  MM Sharma \t\t 23\n",
            "2015 \t  A Nehra \t\t 22\n",
            "2016 \t  B Kumar \t\t 23\n",
            "2017 \t  B Kumar \t\t 26\n",
            "2018 \t  AJ Tye \t\t 24\n",
            "2019 \t  DL Chahar \t\t 22\n",
            "2020 \t  A Nortje \t\t 22\n"
          ]
        }
      ]
    },
    {
      "cell_type": "markdown",
      "source": [
        "# Most IPL Wickets by a Bowler"
      ],
      "metadata": {
        "id": "vR1To07mx4Zp"
      }
    },
    {
      "cell_type": "code",
      "source": [
        "lst = 'caught,bowled,lbw,stumped,caught and bowled,hit wicket'\n",
        "df[df['wicket_type'].apply(lambda x: True if x in lst and x != ' ' else False)]['bowler'].value_counts()[:10]"
      ],
      "metadata": {
        "colab": {
          "base_uri": "https://localhost:8080/"
        },
        "id": "7ehaDJEZxs8k",
        "outputId": "fe774eb8-0020-4626-e148-70dc267c58f3"
      },
      "execution_count": 39,
      "outputs": [
        {
          "output_type": "execute_result",
          "data": {
            "text/plain": [
              "SL Malinga         170\n",
              "A Mishra           160\n",
              "PP Chawla          156\n",
              "DJ Bravo           154\n",
              "Harbhajan Singh    150\n",
              "R Ashwin           139\n",
              "B Kumar            137\n",
              "SP Narine          127\n",
              "YS Chahal          121\n",
              "UT Yadav           119\n",
              "Name: bowler, dtype: int64"
            ]
          },
          "metadata": {},
          "execution_count": 39
        }
      ]
    },
    {
      "cell_type": "markdown",
      "source": [
        "# Most Dot Ball by a Bowler"
      ],
      "metadata": {
        "id": "SSvh9DYayP5g"
      }
    },
    {
      "cell_type": "code",
      "source": [
        "plt.figure(figsize=(10,8))\n",
        "data = df[df['run'] == 0].groupby('bowler').count()['match_id'].sort_values(ascending=False)[:10]\n",
        "sns.barplot(y=data.index,x=data,orient='h')\n",
        "plt.xlabel('Dot Balls')\n",
        "plt.ylabel('bowler')\n",
        "plt.show()"
      ],
      "metadata": {
        "colab": {
          "base_uri": "https://localhost:8080/",
          "height": 497
        },
        "id": "6BtmkCbjyH9c",
        "outputId": "472ad483-0745-4ef6-f7d4-0ee130325e27"
      },
      "execution_count": 40,
      "outputs": [
        {
          "output_type": "display_data",
          "data": {
            "text/plain": [
              "<Figure size 720x576 with 1 Axes>"
            ],
            "image/png": "[encoded data removed]"
          },
          "metadata": {
            "needs_background": "light"
          }
        }
      ]
    },
    {
      "cell_type": "markdown",
      "source": [
        "# Most Maiden over by a Bowler"
      ],
      "metadata": {
        "id": "iL6AzSmFyjOG"
      }
    },
    {
      "cell_type": "code",
      "source": [
        "data = df.groupby(['start_date','bowler','over'])['run'].sum()\n",
        "data = data[data.values == 0].droplevel(level=[0,2])\n",
        "data.index.value_counts()[:10]"
      ],
      "metadata": {
        "colab": {
          "base_uri": "https://localhost:8080/"
        },
        "id": "V55l6gIsydwb",
        "outputId": "b76c8a8b-8457-48c9-c47e-f0f9e918d3f5"
      },
      "execution_count": 41,
      "outputs": [
        {
          "output_type": "execute_result",
          "data": {
            "text/plain": [
              "P Kumar           12\n",
              "IK Pathan          9\n",
              "SL Malinga         8\n",
              "DW Steyn           8\n",
              "B Kumar            7\n",
              "DS Kulkarni        7\n",
              "Sandeep Sharma     6\n",
              "DJ Bravo           6\n",
              "R Ashwin           5\n",
              "Z Khan             5\n",
              "Name: bowler, dtype: int64"
            ]
          },
          "metadata": {},
          "execution_count": 41
        }
      ]
    },
    {
      "cell_type": "markdown",
      "source": [
        "# Most Wickets by an IPL Team"
      ],
      "metadata": {
        "id": "EzAjN80qy0gl"
      }
    },
    {
      "cell_type": "code",
      "source": [
        "plt.figure(figsize=(10,8))\n",
        "lst = 'caught,bowled,lbw,stumped,caught and bowled,hit wicket'\n",
        "data = df[df['wicket_type'].apply(lambda x: True if x in lst and x != ' ' else False)]['bowling_team'].value_counts()\n",
        "df.groupby(['batting_team'])['extras'].agg('sum').sort_values(ascending=False)"
      ],
      "metadata": {
        "colab": {
          "base_uri": "https://localhost:8080/",
          "height": 312
        },
        "id": "r1Pr2xxly2XV",
        "outputId": "c64aede6-fbc4-4ba9-a070-cce94bb9bd35"
      },
      "execution_count": 42,
      "outputs": [
        {
          "output_type": "execute_result",
          "data": {
            "text/plain": [
              "batting_team\n",
              "Mumbai Indians                 1746\n",
              "Kolkata Knight Riders          1628\n",
              "Kings XI Punjab                1523\n",
              "Royal Challengers Bangalore    1485\n",
              "Chennai Super Kings            1420\n",
              "Delhi Daredevils               1274\n",
              "Rajasthan Royals               1182\n",
              "Sunrisers Hyderabad             951\n",
              "Deccan Chargers                 578\n",
              "Pune Warriors                   318\n",
              "Gujarat Lions                   233\n",
              "Delhi Capitals                  227\n",
              "Rising Pune Supergiant          201\n",
              "Kochi Tuskers Kerala            143\n",
              "Name: extras, dtype: int64"
            ]
          },
          "metadata": {},
          "execution_count": 42
        },
        {
          "output_type": "display_data",
          "data": {
            "text/plain": [
              "<Figure size 720x576 with 0 Axes>"
            ]
          },
          "metadata": {}
        }
      ]
    },
    {
      "cell_type": "markdown",
      "source": [
        "# Most No Balls by an IPL team"
      ],
      "metadata": {
        "id": "ILbSITVDzNzD"
      }
    },
    {
      "cell_type": "code",
      "source": [
        "df.groupby(['batting_team'])['noballs'].agg('sum').sort_values(ascending=False)\n"
      ],
      "metadata": {
        "colab": {
          "base_uri": "https://localhost:8080/"
        },
        "id": "cMHVw7ICzPYg",
        "outputId": "e12a8d80-f4c8-45c4-f872-2ba15b426adb"
      },
      "execution_count": 43,
      "outputs": [
        {
          "output_type": "execute_result",
          "data": {
            "text/plain": [
              "batting_team\n",
              "Royal Challengers Bangalore    106.0\n",
              "Chennai Super Kings             96.0\n",
              "Mumbai Indians                  96.0\n",
              "Rajasthan Royals                94.0\n",
              "Kolkata Knight Riders           90.0\n",
              "Delhi Daredevils                73.0\n",
              "Kings XI Punjab                 71.0\n",
              "Sunrisers Hyderabad             53.0\n",
              "Deccan Chargers                 49.0\n",
              "Pune Warriors                   24.0\n",
              "Delhi Capitals                  21.0\n",
              "Gujarat Lions                   17.0\n",
              "Kochi Tuskers Kerala            11.0\n",
              "Rising Pune Supergiant           8.0\n",
              "Name: noballs, dtype: float64"
            ]
          },
          "metadata": {},
          "execution_count": 43
        }
      ]
    },
    {
      "cell_type": "markdown",
      "source": [
        "# Most No Balls by an IPL Bowler"
      ],
      "metadata": {
        "id": "gmNgvaVZzfex"
      }
    },
    {
      "cell_type": "code",
      "source": [
        "df[df['noballs'] != 0]['bowler'].value_counts()[:10]"
      ],
      "metadata": {
        "colab": {
          "base_uri": "https://localhost:8080/"
        },
        "id": "osMZVzzGzZfu",
        "outputId": "bb6b987f-256d-41df-e004-2e9bf1cc2ce6"
      },
      "execution_count": 44,
      "outputs": [
        {
          "output_type": "execute_result",
          "data": {
            "text/plain": [
              "S Sreesanth    23\n",
              "JJ Bumrah      23\n",
              "A Mishra       21\n",
              "I Sharma       21\n",
              "UT Yadav       19\n",
              "SL Malinga     18\n",
              "AB Dinda       14\n",
              "JA Morkel      13\n",
              "M Morkel       13\n",
              "RP Singh       13\n",
              "Name: bowler, dtype: int64"
            ]
          },
          "metadata": {},
          "execution_count": 44
        }
      ]
    },
    {
      "cell_type": "markdown",
      "source": [
        "# Most run given by a team in Extras"
      ],
      "metadata": {
        "id": "v2FVver0zwHN"
      }
    },
    {
      "cell_type": "code",
      "source": [
        "plt.figure(figsize=(10,8))\n",
        "data = df.groupby(['batting_team'])['extras'].agg('sum').sort_values(ascending=False)\n",
        "sns.barplot(y=data.index,x=data,orient='h')\n",
        "plt.xlabel('Runs')\n",
        "plt.ylabel('Teams')\n",
        "plt.show()"
      ],
      "metadata": {
        "colab": {
          "base_uri": "https://localhost:8080/",
          "height": 497
        },
        "id": "EeculhdLzpGA",
        "outputId": "f6e46821-ed4f-4e23-c958-8bd306194985"
      },
      "execution_count": 45,
      "outputs": [
        {
          "output_type": "display_data",
          "data": {
            "text/plain": [
              "<Figure size 720x576 with 1 Axes>"
            ],
            "image/png": "[encoded data removed]"
          },
          "metadata": {
            "needs_background": "light"
          }
        }
      ]
    },
    {
      "cell_type": "markdown",
      "source": [
        "# Most Wides Conceded by an IPL team"
      ],
      "metadata": {
        "id": "EL-gettM0AqM"
      }
    },
    {
      "cell_type": "code",
      "source": [
        "df.groupby(['batting_team'])['wides'].agg('sum').sort_values(ascending=False)"
      ],
      "metadata": {
        "colab": {
          "base_uri": "https://localhost:8080/"
        },
        "id": "Hpic5OV_z7Oe",
        "outputId": "1947ba8a-9523-4377-e603-ee6413589be1"
      },
      "execution_count": 46,
      "outputs": [
        {
          "output_type": "execute_result",
          "data": {
            "text/plain": [
              "batting_team\n",
              "Mumbai Indians                 1002.0\n",
              "Kolkata Knight Riders           912.0\n",
              "Royal Challengers Bangalore     814.0\n",
              "Kings XI Punjab                 786.0\n",
              "Chennai Super Kings             785.0\n",
              "Delhi Daredevils                717.0\n",
              "Rajasthan Royals                652.0\n",
              "Sunrisers Hyderabad             548.0\n",
              "Deccan Chargers                 279.0\n",
              "Pune Warriors                   169.0\n",
              "Gujarat Lions                   134.0\n",
              "Rising Pune Supergiant          118.0\n",
              "Delhi Capitals                  117.0\n",
              "Kochi Tuskers Kerala             89.0\n",
              "Name: wides, dtype: float64"
            ]
          },
          "metadata": {},
          "execution_count": 46
        }
      ]
    }
  ]
}